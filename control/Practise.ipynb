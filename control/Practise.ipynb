{
 "cells": [
  {
   "cell_type": "code",
   "execution_count": 4,
   "metadata": {},
   "outputs": [],
   "source": [
    "import numpy as np\n",
    "import matplotlib.pyplot as plt\n",
    "from numpy import linalg as LA"
   ]
  },
  {
   "cell_type": "code",
   "execution_count": 3,
   "metadata": {},
   "outputs": [],
   "source": [
    "A = np.array([[8, -8, -3, 8, 4],\n",
    "             [7, -9, 7, 1, -6],\n",
    "             [-2, -3, -2, 0, 5],\n",
    "             [3, -6, 9, 6, -8],\n",
    "             [-8, -10, 0, 10, 9]])\n",
    "\n",
    "B = np.array([[2, -5, 1],\n",
    "             [-2, 4, 4],\n",
    "             [1, 9,-5],\n",
    "             [-1, -4, 7],\n",
    "             [-2, 3, -1]])\n",
    "\n",
    "C = np.array([[-7,-3,3,-2,0],\n",
    "             [6,-9,4,-7,-5],\n",
    "              [0,-9,10,9,-7],\n",
    "              [1,4,7,6,3]])"
   ]
  },
  {
   "cell_type": "code",
   "execution_count": 8,
   "metadata": {},
   "outputs": [
    {
     "name": "stdout",
     "output_type": "stream",
     "text": [
      "[-7.92676238+0.j          5.12051523+8.48624451j  5.12051523-8.48624451j\n",
      "  9.19333008+0.j          0.49240183+0.j        ]\n"
     ]
    }
   ],
   "source": [
    "# 1. Знайти власні числа матриці А.\n",
    "eigenvalues = LA.eig(A)\n",
    "print(eigenvalues[0])"
   ]
  },
  {
   "cell_type": "code",
   "execution_count": 9,
   "metadata": {},
   "outputs": [
    {
     "name": "stdout",
     "output_type": "stream",
     "text": [
      "[[-0.16879009+0.j          0.31287266-0.32217436j  0.31287266+0.32217436j\n",
      "  -0.3107942 +0.j         -0.27024701+0.j        ]\n",
      " [-0.82036105+0.j         -0.13011259-0.15449202j -0.13011259+0.15449202j\n",
      "  -0.21064437+0.j         -0.29934368+0.j        ]\n",
      " [-0.18918352+0.j          0.28115589-0.17950005j  0.28115589+0.17950005j\n",
      "   0.42212903+0.j         -0.67090586+0.j        ]\n",
      " [-0.38752815+0.j         -0.1716032 +0.22604672j -0.1716032 -0.22604672j\n",
      "  -0.4458568 +0.j          0.01374907+0.j        ]\n",
      " [-0.33548351+0.j          0.75213273+0.j          0.75213273-0.j\n",
      "   0.6943016 +0.j         -0.62213841+0.j        ]]\n"
     ]
    }
   ],
   "source": [
    "# 2. Знайти власні вектори матриці А.\n",
    "print(eigenvalues[1])"
   ]
  },
  {
   "cell_type": "code",
   "execution_count": 18,
   "metadata": {},
   "outputs": [
    {
     "name": "stdout",
     "output_type": "stream",
     "text": [
      "System is stable: False\n"
     ]
    }
   ],
   "source": [
    "# 3.Чи стійка система?\n",
    "stable = False if any(eigenvalues[0] > 0) else True\n",
    "print('System is stable: {}'.format(stable))"
   ]
  },
  {
   "cell_type": "code",
   "execution_count": 20,
   "metadata": {},
   "outputs": [
    {
     "name": "stdout",
     "output_type": "stream",
     "text": [
      "[-7.92676238+0.j]\n"
     ]
    }
   ],
   "source": [
    "# 4. Полюси стійкості.\n",
    "stable_polars = eigenvalues[0][eigenvalues[0] < 0]\n",
    "print(stable_polars)"
   ]
  },
  {
   "cell_type": "code",
   "execution_count": 21,
   "metadata": {},
   "outputs": [
    {
     "name": "stdout",
     "output_type": "stream",
     "text": [
      "[5.12051523+8.48624451j 5.12051523-8.48624451j 9.19333008+0.j\n",
      " 0.49240183+0.j        ]\n"
     ]
    }
   ],
   "source": [
    "# 5. Полюси нестійкості.\n",
    "not_stable_polars = eigenvalues[0][eigenvalues[0] > 0]\n",
    "print(not_stable_polars)"
   ]
  },
  {
   "cell_type": "code",
   "execution_count": 22,
   "metadata": {},
   "outputs": [
    {
     "name": "stdout",
     "output_type": "stream",
     "text": [
      "[[15.92676238+0.j -0.07323762+0.j  4.92676238+0.j 15.92676238+0.j\n",
      "  11.92676238+0.j]\n",
      " [14.92676238+0.j -1.07323762+0.j 14.92676238+0.j  8.92676238+0.j\n",
      "   1.92676238+0.j]\n",
      " [ 5.92676238+0.j  4.92676238+0.j  5.92676238+0.j  7.92676238+0.j\n",
      "  12.92676238+0.j]\n",
      " [10.92676238+0.j  1.92676238+0.j 16.92676238+0.j 13.92676238+0.j\n",
      "  -0.07323762+0.j]\n",
      " [-0.07323762+0.j -2.07323762+0.j  7.92676238+0.j 17.92676238+0.j\n",
      "  16.92676238+0.j]]\n"
     ]
    }
   ],
   "source": [
    "# 6. Підпростір стійких станів.\n",
    "stable_subspace = A - np.diag(stable_polars)\n",
    "print(stable_subspace)"
   ]
  },
  {
   "cell_type": "code",
   "execution_count": 23,
   "metadata": {},
   "outputs": [
    {
     "data": {
      "text/plain": [
       "array([[-7.92676238+0.j]])"
      ]
     },
     "execution_count": 23,
     "metadata": {},
     "output_type": "execute_result"
    }
   ],
   "source": [
    "np.diag(stable_polars)"
   ]
  },
  {
   "cell_type": "code",
   "execution_count": null,
   "metadata": {},
   "outputs": [],
   "source": []
  }
 ],
 "metadata": {
  "kernelspec": {
   "display_name": "Python 3",
   "language": "python",
   "name": "python3"
  },
  "language_info": {
   "codemirror_mode": {
    "name": "ipython",
    "version": 3
   },
   "file_extension": ".py",
   "mimetype": "text/x-python",
   "name": "python",
   "nbconvert_exporter": "python",
   "pygments_lexer": "ipython3",
   "version": "3.6.7"
  }
 },
 "nbformat": 4,
 "nbformat_minor": 4
}
