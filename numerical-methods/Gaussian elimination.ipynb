{
 "cells": [
  {
   "cell_type": "markdown",
   "metadata": {},
   "source": [
    "# Gaussian elemination method"
   ]
  },
  {
   "cell_type": "code",
   "execution_count": 28,
   "metadata": {},
   "outputs": [
    {
     "name": "stdout",
     "output_type": "stream",
     "text": [
      "[[1. 2. 3. 3.]\n",
      " [3. 5. 7. 0.]\n",
      " [1. 3. 4. 1.]]\n",
      "====================\n",
      "[[1.         2.         3.         3.        ]\n",
      " [0.         0.33333333 0.66666667 3.        ]\n",
      " [1.         3.         4.         1.        ]]\n",
      "====================\n",
      "[[ 1.          2.          3.          3.        ]\n",
      " [ 0.          0.33333333  0.66666667  3.        ]\n",
      " [ 0.         -1.         -1.          2.        ]]\n",
      "====================\n",
      "[[1.         2.         3.         3.        ]\n",
      " [0.         0.33333333 0.66666667 3.        ]\n",
      " [0.         0.         0.33333333 3.66666667]]\n",
      "====================\n",
      "++++++++++++++++++++++++++++++++++++++++\n",
      "[[ 1.   2.   3.   3. ]\n",
      " [ 0.  -0.5  0.   6.5]\n",
      " [ 0.   0.   1.  11. ]]\n",
      "====================\n",
      "[[-0.33333333 -0.66666667  0.         10.        ]\n",
      " [ 0.         -0.5         0.          6.5       ]\n",
      " [ 0.          0.          1.         11.        ]]\n",
      "====================\n",
      "[[ -0.5   0.    0.    2. ]\n",
      " [ -0.    1.   -0.  -13. ]\n",
      " [  0.    0.    1.   11. ]]\n",
      "====================\n",
      "[ -4. -13.  11.]\n"
     ]
    }
   ],
   "source": [
    "import numpy as np\n",
    "A = np.array([[1, 2, 3], [3, 5, 7], [1, 3, 4]], dtype='float')\n",
    "b = np.array([3, 0, 1])\n",
    "Ab = np.hstack([A, b.reshape(-1, 1)])\n",
    "print(Ab)\n",
    "print('=='*10)\n",
    "n = len(b)\n",
    "for i in range(n):\n",
    "    a = Ab[i]\n",
    "    for j in range(i + 1, n):\n",
    "        b = Ab[j]\n",
    "        m = a[i] / b[i]\n",
    "        Ab[j] = a - m * b\n",
    "        print(Ab)\n",
    "        print('=='*10)\n",
    "print(\"++\"*20)\n",
    "for i in range(n - 1, -1, -1):\n",
    "    Ab[i] = Ab[i] / Ab[i, i]\n",
    "    a = Ab[i]\n",
    "    for j in range(i - 1, -1, -1):\n",
    "        b = Ab[j]\n",
    "        m = a[i] / b[i]\n",
    "        Ab[j] = a - m * b\n",
    "        print(Ab)\n",
    "        print('=='*10)\n",
    "\n",
    "x = Ab[:, 3]\n",
    "print(x)"
   ]
  },
  {
   "cell_type": "code",
   "execution_count": null,
   "metadata": {},
   "outputs": [],
   "source": []
  }
 ],
 "metadata": {
  "kernelspec": {
   "display_name": "Python 3",
   "language": "python",
   "name": "python3"
  },
  "language_info": {
   "codemirror_mode": {
    "name": "ipython",
    "version": 3
   },
   "file_extension": ".py",
   "mimetype": "text/x-python",
   "name": "python",
   "nbconvert_exporter": "python",
   "pygments_lexer": "ipython3",
   "version": "3.7.1"
  }
 },
 "nbformat": 4,
 "nbformat_minor": 2
}
