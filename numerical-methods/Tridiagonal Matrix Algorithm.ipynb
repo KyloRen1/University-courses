{
 "cells": [
  {
   "cell_type": "markdown",
   "metadata": {},
   "source": [
    "# Tridiagonal method"
   ]
  },
  {
   "cell_type": "code",
   "execution_count": 1,
   "metadata": {},
   "outputs": [],
   "source": [
    "import numpy as np\n",
    "def TMAsolver(a, b, c, d):\n",
    "    a, b, c, d = map(np.array, (a, b, c, d)) # copy arrays\n",
    "    for i in range(1, len(d)): # forward steps\n",
    "        mc = a[i-1]/b[i-1]\n",
    "        b[i] = b[i] - mc*c[i-1] \n",
    "        d[i] = d[i] - mc*d[i-1]\n",
    "    xc = b\n",
    "    xc[-1] = d[-1]/b[-1]\n",
    "    for i in range(len(d)-2, -1, -1): # backward steps\n",
    "        xc[i] = (d[i]-c[i]*xc[i+1])/b[i]\n",
    "    return xc"
   ]
  },
  {
   "cell_type": "code",
   "execution_count": 2,
   "metadata": {},
   "outputs": [
    {
     "name": "stdout",
     "output_type": "stream",
     "text": [
      "[ 0.14877589  0.75612053 -1.00188324  2.25141243]\n",
      "[ 0.14877589  0.75612053 -1.00188324  2.25141243]\n"
     ]
    }
   ],
   "source": [
    "A = np.array([[10,2,0,0],[3,10,4,0],[0,1,7,5],[0,0,3,4]],dtype=float)   \n",
    "\n",
    "a = np.array([3.,1,3]) \n",
    "b = np.array([10.,10.,7.,4.])\n",
    "c = np.array([2.,4.,5.])\n",
    "d = np.array([3,4,5,6.])\n",
    "\n",
    "print (TMAsolver(a, b, c, d))\n",
    "#compare against numpy linear algebra library\n",
    "print (np.linalg.solve(A, d))"
   ]
  },
  {
   "cell_type": "code",
   "execution_count": null,
   "metadata": {},
   "outputs": [],
   "source": []
  }
 ],
 "metadata": {
  "kernelspec": {
   "display_name": "Python 3",
   "language": "python",
   "name": "python3"
  },
  "language_info": {
   "codemirror_mode": {
    "name": "ipython",
    "version": 3
   },
   "file_extension": ".py",
   "mimetype": "text/x-python",
   "name": "python",
   "nbconvert_exporter": "python",
   "pygments_lexer": "ipython3",
   "version": "3.7.1"
  }
 },
 "nbformat": 4,
 "nbformat_minor": 2
}
