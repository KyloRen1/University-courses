{
 "cells": [
  {
   "cell_type": "code",
   "execution_count": 2,
   "metadata": {},
   "outputs": [],
   "source": [
    "import math\n",
    "import numpy as np"
   ]
  },
  {
   "cell_type": "markdown",
   "metadata": {},
   "source": [
    "# Bisection method"
   ]
  },
  {
   "cell_type": "code",
   "execution_count": 3,
   "metadata": {},
   "outputs": [
    {
     "name": "stdout",
     "output_type": "stream",
     "text": [
      "The value of root is :  4.7015991211\n"
     ]
    }
   ],
   "source": [
    "def bisection(a,b,precision): \n",
    "    if (func(a) * func(b) >= 0): \n",
    "        print(\"You have not assumed right a and b\\n\") \n",
    "        return\n",
    "    c = a \n",
    "    while ((b-a) >= precision): \n",
    "        c = (a+b)/2  # mid-point\n",
    "        if (func(c) == 0.0): break\n",
    "        if (func(c)*func(a) < 0): b = c \n",
    "        else: a = c \n",
    "    print(\"The value of root is : \",\"%.10f\"%c) \n",
    "\n",
    "def func(x): \n",
    "    return x - math.sqrt(x+9)-1\n",
    "\n",
    "a = 4\n",
    "b = 5\n",
    "precision = 10**(-4)\n",
    "bisection(a, b, precision) "
   ]
  },
  {
   "cell_type": "markdown",
   "metadata": {},
   "source": [
    "# Fixed-point iteration method"
   ]
  },
  {
   "cell_type": "code",
   "execution_count": 16,
   "metadata": {},
   "outputs": [
    {
     "name": "stdout",
     "output_type": "stream",
     "text": [
      "Iteration 0: Current value = 4.60555127546399\n",
      "Iteration 1: Current value = 4.688570356583156\n",
      "Iteration 2: Current value = 4.699806799899578\n",
      "Iteration 3: Current value = 4.701325005980909\n",
      "Iteration 4: Current value = 4.7015300898386485\n",
      "4.701557792313751\n"
     ]
    }
   ],
   "source": [
    "def func(x):\n",
    "    return math.sqrt(x+9) + 1 \n",
    "\n",
    "def fixed_point(a, precision):\n",
    "    counter = 0\n",
    "    while counter < 100:\n",
    "        p = func(a)\n",
    "        if(abs(p-a)<precision):\n",
    "            print(p)\n",
    "            break\n",
    "        print(\"Iteration {}: Current value = {}\".format(counter, p))\n",
    "        counter +=1\n",
    "        a = p\n",
    "\n",
    "aproximation = 4\n",
    "precision = 10**(-4)\n",
    "fixed_point(aproximation, precision)"
   ]
  },
  {
   "cell_type": "code",
   "execution_count": null,
   "metadata": {},
   "outputs": [],
   "source": []
  }
 ],
 "metadata": {
  "kernelspec": {
   "display_name": "Python 3",
   "language": "python",
   "name": "python3"
  },
  "language_info": {
   "codemirror_mode": {
    "name": "ipython",
    "version": 3
   },
   "file_extension": ".py",
   "mimetype": "text/x-python",
   "name": "python",
   "nbconvert_exporter": "python",
   "pygments_lexer": "ipython3",
   "version": "3.7.1"
  }
 },
 "nbformat": 4,
 "nbformat_minor": 2
}
