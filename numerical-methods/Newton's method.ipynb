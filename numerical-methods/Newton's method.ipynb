{
 "cells": [
  {
   "cell_type": "markdown",
   "metadata": {},
   "source": [
    "# Newton's method"
   ]
  },
  {
   "cell_type": "code",
   "execution_count": 32,
   "metadata": {},
   "outputs": [
    {
     "name": "stdout",
     "output_type": "stream",
     "text": [
      "2.7529466338187047\n",
      "True\n"
     ]
    }
   ],
   "source": [
    "from math import sin, cos\n",
    "def newton(f, f_prime, x0, eps, kmax):\n",
    "    x, x_prev, i = x0, x0 + 2 * eps, 0\n",
    "    while abs(x - x_prev) >= eps and i < kmax:\n",
    "        x, x_prev, i = x - f(x) / f_prime(x), x, i + 1\n",
    "    return x\n",
    "def f(x):\n",
    "    return x**2 - 20 * sin(x)\n",
    "def f_prime(x: float):\n",
    "    return 2 * x - 20 * cos(x)\n",
    "    \n",
    "x0, x_star = 2, 2.7529466338187049383\n",
    "print(newton(f, f_prime, x0, 1e-7, 1e3))\n",
    "print(newton(f, f_prime, x0, 1e-7, 1e3) ==  x_star)"
   ]
  },
  {
   "cell_type": "code",
   "execution_count": null,
   "metadata": {},
   "outputs": [],
   "source": []
  }
 ],
 "metadata": {
  "kernelspec": {
   "display_name": "Python 3",
   "language": "python",
   "name": "python3"
  },
  "language_info": {
   "codemirror_mode": {
    "name": "ipython",
    "version": 3
   },
   "file_extension": ".py",
   "mimetype": "text/x-python",
   "name": "python",
   "nbconvert_exporter": "python",
   "pygments_lexer": "ipython3",
   "version": "3.7.1"
  }
 },
 "nbformat": 4,
 "nbformat_minor": 2
}
